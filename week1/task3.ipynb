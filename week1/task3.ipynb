{
 "cells": [
  {
   "cell_type": "code",
   "execution_count": 33,
   "metadata": {
    "scrolled": false
   },
   "outputs": [
    {
     "name": "stdout",
     "output_type": "stream",
     "text": [
      "10.62707842300343\n",
      "0.7856033739097096\n",
      "2.750398656952514\n",
      "0.340475843692972\n"
     ]
    },
    {
     "data": {
      "image/png": "[encoded data removed]",
      "text/plain": [
       "<Figure size 432x288 with 1 Axes>"
      ]
     },
     "metadata": {
      "needs_background": "light"
     },
     "output_type": "display_data"
    }
   ],
   "source": [
    "import cv2\n",
    "import numpy as np\n",
    "from matplotlib import pyplot as plt\n",
    "\n",
    "def read_flow(path):\n",
    "    read_image = cv2.imread(path, -1)\n",
    "#     print(read_image)\n",
    "#     plt.imshow(read_image)\n",
    "    flow_u = (read_image[:, :, 2] - 2. ** 15) / 64\n",
    "    flow_v = (read_image[:, :, 1] - 2. ** 15) / 64\n",
    "    flow_valid = read_image[:, :, 0]\n",
    "\n",
    "    flow_final = np.transpose(np.array([flow_u, flow_v, flow_valid]), axes=[1, 2, 0])\n",
    "#     plt.imshow(flow_valid)\n",
    "    plt.figure(1)\n",
    "    plt.imshow(flow_final)\n",
    "    plt.savefig('results/Opflow_estimation.png') \n",
    "    plt.show()\n",
    "\n",
    "    return flow_final\n",
    "\n",
    "\n",
    "def flow_error(flow_est,flow_gt):\n",
    "    error_u = flow_gt[:, :, 0] - flow_est[:, :, 0]\n",
    "    error_v = flow_gt[:, :, 1] - flow_est[:, :, 1]\n",
    "    error_final = np.sqrt(error_u ** 2 + error_v ** 2)\n",
    "\n",
    "    flow_gt_valid = flow_gt[:, :, 2]\n",
    "    error_final[flow_gt_valid == 0] = 0\n",
    "\n",
    "    return (error_final, flow_gt_valid)\n",
    "\n",
    "\n",
    "def plot_Opflow_error(Opflow_error, Opflow_gt, bins = 20):\n",
    "    valid_gt = Opflow_gt[:, :, 2]\n",
    "    plt.figure()\n",
    "    plt.hist(Opflow_error[valid_gt != 0], bins=bins, density=True)\n",
    "    plt.title('Density of Optical Flow Error')\n",
    "    plt.xlabel('Optical Flow error')\n",
    "    plt.ylabel('The Percentage of Pixels')\n",
    "    plt.savefig('results/Opflow_error_2.png')\n",
    "    plt.show()\n",
    "\n",
    "\n",
    "est_path = [\"./results_opticalflow_kitti/results/LKflow_000045_10.png\",\"./results_opticalflow_kitti/results/LKflow_000157_10.png\"]  # '000157','000045'\n",
    "gt_path = [\"./data_stereo_flow/training/flow_noc/000045_10.png\",\"./data_stereo_flow/training/flow_noc/000157_10.png\"]\n",
    "\n",
    "\n",
    "for (e,g) in zip(est_path,gt_path):\n",
    "    # Read flow images\n",
    "    flow_est = read_flow(e)\n",
    "    flow_gt = read_flow(g)\n",
    "#     print(flow_est)\n",
    "\n",
    "    # Compute the error    \n",
    "    (error_final, flow_gt_valid) = flow_error(flow_est, flow_gt)\n",
    "\n",
    "    msen = np.mean(error_final[flow_gt_valid != 0])\n",
    "    print(msen)\n",
    "    pepn = (np.sum(error_final[flow_gt_valid != 0] > 3)/len(error_final[flow_gt_valid != 0]))\n",
    "    print(pepn)\n",
    "    \n",
    "#     plt.imshow(flow_est.astype('uint8'))\n",
    "#     plt.axis('off') # 不显示坐标轴\n",
    "#     plt.show()\n",
    "    \n",
    "#     path = \"./data_stereo_flow/training/image_0/000045_10.png\"\n",
    "#     read_image = cv2.imread(path, -1)\n",
    "#     plt.imshow(read_image, cmap='gray')\n",
    "# plt.imshow(E,cmap='rainbow',alpha=.5)\n",
    "#     plt.imshow(ndimage.grey_dilation(E, size=(3, 3)), cmap='rainbow', alpha=.5)\n",
    "    plot_Opflow_error(error_final, flow_gt, bins=100)\n"
   ]
  }
 ],
 "metadata": {
  "kernelspec": {
   "display_name": "Python 3",
   "language": "python",
   "name": "python3"
  },
  "language_info": {
   "codemirror_mode": {
    "name": "ipython",
    "version": 3
   },
   "file_extension": ".py",
   "mimetype": "text/x-python",
   "name": "python",
   "nbconvert_exporter": "python",
   "pygments_lexer": "ipython3",
   "version": "3.7.0"
  },
  "pycharm": {
   "stem_cell": {
    "cell_type": "raw",
    "metadata": {
     "collapsed": false
    },
    "source": [
     "from flow_utils import flow_read, flow_error_map\n",
     "import numpy as np\n",
     "import os\n",
     "\n",
     "# List of sequences to add to the measurement\n",
     "sequences = ['000045']  # '000157','000045'\n",
     "\n",
     "E_list = []\n",
     "for s in sequences:\n",
     "    # Read flow images\n",
     "    F_est = flow_read(os.path.join('results', 'data_stereo_flow', 'LKflow_' + s + '_10.png'), s, False)\n",
     "    print s \n",
     "    F_gt = flow_read(\n",
     "        os.path.join('..', 'Datasets', 'data_stereo_flow', 'training', 'flow_noc', s + '_10.png'), s, False)\n",
     "\n",
     "    # Compute the error map (error at each point)\n",
     "    # F_val contains the booleans marking the non-occluded pixels\n",
     "    (E, F_val) = flow_error_map(F_gt, F_est)\n",
     "    E_list = np.append(E_list, E[F_val != 0])\n",
     "\n",
     "print('MSE: ' + str(np.mean(E_list)))\n",
     "print('PEPN: ' + str(np.sum(E_list > 3) * 100. / len(E_list)))"
    ]
   }
  }
 },
 "nbformat": 4,
 "nbformat_minor": 2
}
